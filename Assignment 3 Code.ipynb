{
 "cells": [
  {
   "cell_type": "code",
   "execution_count": 89,
   "metadata": {},
   "outputs": [],
   "source": [
    "from nltk.tokenize import TweetTokenizer\n",
    "import numpy as np \n",
    "import re\n",
    "import os\n",
    "\n",
    "the_path = 'C:/Users/Amelie/Documents/Columbia Master/Semester 2/AI in the Cloud/'\n",
    "glove_filename = 'glove.twitter.27B.50d.txt'\n",
    "the_dirs = os.listdir(the_path)"
   ]
  },
  {
   "cell_type": "code",
   "execution_count": 28,
   "metadata": {},
   "outputs": [],
   "source": [
    "def clean_text(string_text):\n",
    "    # remove URLs\n",
    "    nopunc = re.sub('((www\\.[^\\s]+)|(https?://[^\\s]+)|(http?://[^\\s]+))', '', string_text)\n",
    "    nopunc = re.sub(r'http\\S+', '', nopunc)\n",
    "    #lower case\n",
    "    nopunc = nopunc.lower()\n",
    "    # remove usernames\n",
    "    nopunc = re.sub('@[^\\s]+', '', nopunc)\n",
    "    # remove the # in #hashtag\n",
    "    nopunc = re.sub(r'#([^\\s]+)', r'\\1', nopunc)\n",
    "    return nopunc"
   ]
  },
  {
   "cell_type": "code",
   "execution_count": 33,
   "metadata": {},
   "outputs": [],
   "source": [
    "def tokenize_text(string_text):\n",
    "    tknzr = TweetTokenizer()\n",
    "    list_words = tknzr.tokenize(string_text)\n",
    "    list_words = [word for word in list_words if word not in punctuation_list]\n",
    "    return list_words"
   ]
  },
  {
   "cell_type": "code",
   "execution_count": 81,
   "metadata": {},
   "outputs": [],
   "source": [
    "def loadGloveModel():\n",
    "    f = open(the_path + glove_filename, \"r\", encoding=\"utf8\")\n",
    "    model = {}\n",
    "    for line in f:\n",
    "        splitLine = line.split()\n",
    "        word = splitLine[0]\n",
    "        embedding = np.array([float(val) for val in splitLine[1:]])\n",
    "        model[word] = embedding\n",
    "    return model"
   ]
  },
  {
   "cell_type": "code",
   "execution_count": 80,
   "metadata": {},
   "outputs": [
    {
     "name": "stdout",
     "output_type": "stream",
     "text": [
      "Loading Glove Model\n",
      "Done. 1193514  words loaded!\n"
     ]
    }
   ],
   "source": [
    "model = loadGloveModel()"
   ]
  },
  {
   "cell_type": "code",
   "execution_count": 64,
   "metadata": {},
   "outputs": [],
   "source": [
    "words_in_order = list(model.keys())"
   ]
  },
  {
   "cell_type": "code",
   "execution_count": 77,
   "metadata": {},
   "outputs": [],
   "source": [
    "def replace_token_with_index(list_words):\n",
    "    index_list = np.zeros(len(list_words))\n",
    "    for j in range (len(list_words)):\n",
    "        for i in range (len(words_in_order)):\n",
    "            if list_words[j] == words_in_order[i]:\n",
    "                index_list[j] = i\n",
    "                break\n",
    "    return index_list    "
   ]
  },
  {
   "cell_type": "code",
   "execution_count": 86,
   "metadata": {},
   "outputs": [],
   "source": [
    "def get_max_length(twitter_data):\n",
    "    return len(twitter_data)\n",
    "\n",
    "def pad_sequence(list_index):\n",
    "    len_list = len(list_index)\n",
    "    len_max = 20 ## to define later\n",
    "    if len_list < len_max:\n",
    "        concat = np.append(list_index, np.zeros(len_max - len_list))\n",
    "    return concat"
   ]
  },
  {
   "cell_type": "markdown",
   "metadata": {},
   "source": [
    "Unit Tests"
   ]
  },
  {
   "cell_type": "code",
   "execution_count": 79,
   "metadata": {},
   "outputs": [],
   "source": [
    "test_example = text[0]\n",
    "s0 = \"This is a cooool #dummysmiley: :-) :-P <3 and some arrows < > -> <--\""
   ]
  },
  {
   "cell_type": "code",
   "execution_count": 88,
   "metadata": {},
   "outputs": [
    {
     "data": {
      "text/plain": [
       "array([5.3000e+01, 3.2000e+01, 1.1000e+01, 5.2173e+04, 0.0000e+00,\n",
       "       0.0000e+00, 0.0000e+00, 0.0000e+00, 2.6000e+01, 1.9100e+02,\n",
       "       4.3121e+04, 0.0000e+00, 0.0000e+00, 0.0000e+00, 0.0000e+00,\n",
       "       0.0000e+00, 0.0000e+00, 0.0000e+00, 0.0000e+00, 0.0000e+00])"
      ]
     },
     "execution_count": 88,
     "metadata": {},
     "output_type": "execute_result"
    }
   ],
   "source": [
    "s1 = clean_text(s0)\n",
    "s2 = tokenize_text(s1)\n",
    "s3 = replace_token_with_index(s2)\n",
    "s4 = pad_sequence(s3)\n",
    "s4"
   ]
  }
 ],
 "metadata": {
  "kernelspec": {
   "display_name": "Python 3",
   "language": "python",
   "name": "python3"
  },
  "language_info": {
   "codemirror_mode": {
    "name": "ipython",
    "version": 3
   },
   "file_extension": ".py",
   "mimetype": "text/x-python",
   "name": "python",
   "nbconvert_exporter": "python",
   "pygments_lexer": "ipython3",
   "version": "3.7.3"
  }
 },
 "nbformat": 4,
 "nbformat_minor": 2
}
